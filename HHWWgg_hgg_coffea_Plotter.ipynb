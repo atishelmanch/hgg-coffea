{
 "cells": [
  {
   "cell_type": "code",
   "execution_count": 2,
   "metadata": {},
   "outputs": [],
   "source": [
    "import numpy as np\n",
    "import matplotlib.pyplot as plt\n",
    "from matplotlib.offsetbox import AnchoredText\n",
    "import pandas as pd "
   ]
  },
  {
   "cell_type": "code",
   "execution_count": 3,
   "metadata": {},
   "outputs": [],
   "source": [
    "X = pd.read_parquet(\"b95fc1b0-1c70-11eb-8b03-c22411acbeef_%2FEvents%3B1_0-3597.parquet\")"
   ]
  },
  {
   "cell_type": "code",
   "execution_count": 4,
   "metadata": {},
   "outputs": [
    {
     "data": {
      "text/plain": [
       "Index(['lead_charge', 'lead_cleanmask', 'lead_cutBased',\n",
       "       'lead_cutBased_Fall17V1Bitmap', 'lead_eCorr', 'lead_electronIdx',\n",
       "       'lead_electronIdxG', 'lead_electronVeto', 'lead_energyErr', 'lead_eta',\n",
       "       'lead_genPartFlav', 'lead_genPartIdx', 'lead_genPartIdxG', 'lead_hoe',\n",
       "       'lead_isScEtaEB', 'lead_isScEtaEE', 'lead_jetIdx', 'lead_jetIdxG',\n",
       "       'lead_mass', 'lead_mvaID', 'lead_mvaID_Fall17V1p1', 'lead_mvaID_WP80',\n",
       "       'lead_mvaID_WP90', 'lead_pdgId', 'lead_pfRelIso03_all',\n",
       "       'lead_pfRelIso03_chg', 'lead_phi', 'lead_pixelSeed', 'lead_pt',\n",
       "       'lead_r9', 'lead_seedGain', 'lead_sieie', 'lead_vidNestedWPBitmap',\n",
       "       'sublead_charge', 'sublead_cleanmask', 'sublead_cutBased',\n",
       "       'sublead_cutBased_Fall17V1Bitmap', 'sublead_eCorr',\n",
       "       'sublead_electronIdx', 'sublead_electronIdxG', 'sublead_electronVeto',\n",
       "       'sublead_energyErr', 'sublead_eta', 'sublead_genPartFlav',\n",
       "       'sublead_genPartIdx', 'sublead_genPartIdxG', 'sublead_hoe',\n",
       "       'sublead_isScEtaEB', 'sublead_isScEtaEE', 'sublead_jetIdx',\n",
       "       'sublead_jetIdxG', 'sublead_mass', 'sublead_mvaID',\n",
       "       'sublead_mvaID_Fall17V1p1', 'sublead_mvaID_WP80', 'sublead_mvaID_WP90',\n",
       "       'sublead_pdgId', 'sublead_pfRelIso03_all', 'sublead_pfRelIso03_chg',\n",
       "       'sublead_phi', 'sublead_pixelSeed', 'sublead_pt', 'sublead_r9',\n",
       "       'sublead_seedGain', 'sublead_sieie', 'sublead_vidNestedWPBitmap', 'pt',\n",
       "       'eta', 'phi', 'mass', 'charge', 'HHWWggTagger_40', 'best_tag', 'event',\n",
       "       'lumi', 'run'],\n",
       "      dtype='object')"
      ]
     },
     "execution_count": 4,
     "metadata": {},
     "output_type": "execute_result"
    }
   ],
   "source": [
    "X.columns"
   ]
  },
  {
   "cell_type": "code",
   "execution_count": 5,
   "metadata": {},
   "outputs": [
    {
     "data": {
      "image/png": "[encoded data removed]",
      "text/plain": [
       "<Figure size 432x288 with 1 Axes>"
      ]
     },
     "metadata": {
      "needs_background": "light"
     },
     "output_type": "display_data"
    }
   ],
   "source": [
    "plt.hist(X['eta'])\n",
    "plt.show()\n",
    "plt.close()"
   ]
  },
  {
   "cell_type": "code",
   "execution_count": 6,
   "metadata": {},
   "outputs": [
    {
     "data": {
      "image/png": "[encoded data removed]",
      "text/plain": [
       "<Figure size 432x288 with 1 Axes>"
      ]
     },
     "metadata": {
      "needs_background": "light"
     },
     "output_type": "display_data"
    }
   ],
   "source": [
    "plt.hist(X['mass'], bins = np.linspace(100, 180, 80))\n",
    "plt.show()\n",
    "plt.close()"
   ]
  },
  {
   "cell_type": "code",
   "execution_count": null,
   "metadata": {},
   "outputs": [],
   "source": [
    "# d = \"/eos/user/a/atishelm/ntuples/HHWWgg_nanoAOD/Testing_Hgg_Coffea/\"\n",
    "# f = \"hists_dystudies_HHWWgg_sample.coffea\"\n",
    "# file = \"%s/%s\"%(d, f)\n",
    "# print(\"file:\",file)\n",
    "# # output = load('%s/hists_ttcom_dummy_sample.coffea'%(d))\n",
    "# output = load(file)"
   ]
  }
 ],
 "metadata": {
  "kernelspec": {
   "display_name": "Python 3 (ipykernel)",
   "language": "python",
   "name": "python3"
  },
  "language_info": {
   "codemirror_mode": {
    "name": "ipython",
    "version": 3
   },
   "file_extension": ".py",
   "mimetype": "text/x-python",
   "name": "python",
   "nbconvert_exporter": "python",
   "pygments_lexer": "ipython3",
   "version": "3.8.10"
  }
 },
 "nbformat": 4,
 "nbformat_minor": 4
}
