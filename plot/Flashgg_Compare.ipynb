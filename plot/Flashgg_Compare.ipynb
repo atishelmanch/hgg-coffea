{
 "cells": [
  {
   "cell_type": "code",
   "execution_count": 1,
   "id": "a7433721-27ed-4522-ac4b-ce9681b68c1e",
   "metadata": {},
   "outputs": [
    {
     "data": {
      "text/plain": [
       "'\\nAbraham Tishelman-Charny \\n22 September 2021 \\n\\nThe purpose of this notebook is to compare flashgg and NanoAOD framework outputs of the \\nsame process. As a first example, a comparison of SM HH->WWgg->qqlnugg with 2017 \\ndetector reconstruction. The purpose being to show a NanoAOD framework produces \\nthe same results as flashgg. \\n'"
      ]
     },
     "execution_count": 1,
     "metadata": {},
     "output_type": "execute_result"
    }
   ],
   "source": [
    "\"\"\"\n",
    "Abraham Tishelman-Charny \n",
    "22 September 2021 \n",
    "\n",
    "The purpose of this notebook is to compare flashgg and NanoAOD framework outputs of the \n",
    "same process. As a first example, a comparison of SM HH->WWgg->qqlnugg with 2017 \n",
    "detector reconstruction. The purpose being to show a NanoAOD framework produces \n",
    "the same results as flashgg. \n",
    "\"\"\""
   ]
  },
  {
   "cell_type": "code",
   "execution_count": 15,
   "id": "e8a60769-239e-4775-bca7-708d0f20cb12",
   "metadata": {},
   "outputs": [],
   "source": [
    "import uproot \n",
    "from matplotlib import pyplot as plt \n",
    "import numpy as np\n",
    "import pandas as pd "
   ]
  },
  {
   "cell_type": "code",
   "execution_count": 19,
   "id": "25936d86-8938-4feb-a5d6-cba73f076c7d",
   "metadata": {},
   "outputs": [],
   "source": [
    "X = pd.read_parquet(\"../HHWWgg_SL/\")\n",
    "bins = np.linspace(115, 135, 80)"
   ]
  },
  {
   "cell_type": "code",
   "execution_count": 23,
   "id": "15baa9ba-9118-4c20-b869-05f321955202",
   "metadata": {},
   "outputs": [
    {
     "data": {
      "text/plain": [
       "130644"
      ]
     },
     "execution_count": 23,
     "metadata": {},
     "output_type": "execute_result"
    }
   ],
   "source": [
    "len(X['mass'][categories == 0])"
   ]
  },
  {
   "cell_type": "code",
   "execution_count": 21,
   "id": "23c13dd8-d896-4b45-9529-f25bdce5d670",
   "metadata": {},
   "outputs": [
    {
     "ename": "TypeError",
     "evalue": "'int' object is not callable",
     "output_type": "error",
     "traceback": [
      "\u001b[0;31m---------------------------------------------------------------------------\u001b[0m",
      "\u001b[0;31mTypeError\u001b[0m                                 Traceback (most recent call last)",
      "\u001b[0;32m/tmp/ipykernel_3819/3902152103.py\u001b[0m in \u001b[0;36m<module>\u001b[0;34m\u001b[0m\n\u001b[1;32m      1\u001b[0m \u001b[0mcategories\u001b[0m \u001b[0;34m=\u001b[0m \u001b[0mX\u001b[0m\u001b[0;34m[\u001b[0m\u001b[0;34m'best_tag'\u001b[0m\u001b[0;34m]\u001b[0m\u001b[0;34m%\u001b[0m\u001b[0;36m40\u001b[0m\u001b[0;34m\u001b[0m\u001b[0;34m\u001b[0m\u001b[0m\n\u001b[1;32m      2\u001b[0m \u001b[0;34m\u001b[0m\u001b[0m\n\u001b[0;32m----> 3\u001b[0;31m \u001b[0mprint\u001b[0m\u001b[0;34m(\u001b[0m\u001b[0;34m\"N events hgg-coffea:\"\u001b[0m\u001b[0;34m,\u001b[0m\u001b[0mX\u001b[0m\u001b[0;34m[\u001b[0m\u001b[0;34m'mass'\u001b[0m\u001b[0;34m]\u001b[0m\u001b[0;34m[\u001b[0m\u001b[0mcategories\u001b[0m \u001b[0;34m==\u001b[0m \u001b[0;36m0\u001b[0m\u001b[0;34m]\u001b[0m\u001b[0;34m.\u001b[0m\u001b[0msize\u001b[0m\u001b[0;34m(\u001b[0m\u001b[0;34m)\u001b[0m\u001b[0;34m)\u001b[0m\u001b[0;34m\u001b[0m\u001b[0;34m\u001b[0m\u001b[0m\n\u001b[0m\u001b[1;32m      4\u001b[0m \u001b[0;34m\u001b[0m\u001b[0m\n\u001b[1;32m      5\u001b[0m \u001b[0mfig\u001b[0m\u001b[0;34m,\u001b[0m \u001b[0max\u001b[0m \u001b[0;34m=\u001b[0m \u001b[0mplt\u001b[0m\u001b[0;34m.\u001b[0m\u001b[0msubplots\u001b[0m\u001b[0;34m(\u001b[0m\u001b[0;34m)\u001b[0m\u001b[0;34m\u001b[0m\u001b[0;34m\u001b[0m\u001b[0m\n",
      "\u001b[0;31mTypeError\u001b[0m: 'int' object is not callable"
     ]
    }
   ],
   "source": [
    "categories = X['best_tag']%40\n",
    "\n",
    "print(\"N events hgg-coffea:\")\n",
    "\n",
    "fig, ax = plt.subplots()\n",
    "plt.hist(X['mass'][categories == 0], bins = bins)\n",
    "# cats = range(0, 4)\n",
    "# objs = [\"Leptons\", \"Jets\"]\n",
    "# for cat in cats:\n",
    "#     for obj in objs:\n",
    "#         exec(\"cat_%s_n%s = X['n%s'][categories == %s]\"%(cat, obj, obj, cat))\n",
    "        \n",
    "# for cat in cats:\n",
    "#     for obj in objs:\n",
    "#         quantity = \"cat_%s_n%s\"%(cat, obj)\n",
    "#         exec(\"vals = %s\"%(quantity))\n",
    "#         fig, ax = plt.subplots()\n",
    "#         plt.hist(vals, bins = np.linspace(0, 7, 8))\n",
    "#         plt.yscale('log')\n",
    "#         ymin, ymax = ax.get_ylim()\n",
    "#         ax.set_ylim(0.1, ymax)\n",
    "#         plt.title(quantity)\n",
    "#         plt.show()\n",
    "#         plt.close()        "
   ]
  },
  {
   "cell_type": "code",
   "execution_count": 2,
   "id": "06d4901c-9915-4fa3-b96e-cab393aa2f46",
   "metadata": {},
   "outputs": [],
   "source": [
    "# MiniAOD: /GluGluToHHTo2G2Qlnu_node_cHHH1_TuneCP5_PSWeights_13TeV-powheg-pythia8/RunIIFall17MiniAODv2-PU2017_12Apr2018_94X_mc2017_realistic_v14-v1/MINIAODSIM\n",
    "# NanoAOD: /GluGluToHHTo2G2Qlnu_node_cHHH1_TuneCP5_PSWeights_13TeV-powheg-pythia8/RunIIFall17NanoAODv7-PU2017_12Apr2018_Nano02Apr2020_102X_mc2017_realistic_v8-v1/NANOAODSIM\n",
    "flashgg_ntuple = uproot.open(\"GluGluToHHTo2G2Qlnu_node_cHHH1_2017.root\")"
   ]
  },
  {
   "cell_type": "code",
   "execution_count": 8,
   "id": "4a28dc20-e89c-4fbc-857c-41791e079594",
   "metadata": {},
   "outputs": [],
   "source": [
    "flashgg_SL_tree = flashgg_ntuple[\"tagsDumper/trees\"][\"GluGluToHHTo2G2Qlnu_node_cHHH1_13TeV_HHWWggTag_0\"]"
   ]
  },
  {
   "cell_type": "code",
   "execution_count": 10,
   "id": "c5cef7eb-d0a3-4fbe-8a3c-a213ade0d1f2",
   "metadata": {},
   "outputs": [],
   "source": [
    "flashgg_SL_mass = flashgg_SL_tree[\"CMS_hgg_mass\"].array()"
   ]
  },
  {
   "cell_type": "code",
   "execution_count": 14,
   "id": "fc0aa822-9c56-4dba-a8ab-bdc6d748deb2",
   "metadata": {},
   "outputs": [
    {
     "name": "stdout",
     "output_type": "stream",
     "text": [
      "flashgg N entries: 76293\n"
     ]
    },
    {
     "data": {
      "text/plain": [
       "(array([  52.,   66.,   69.,   61.,   70.,   68.,   88.,   84.,  101.,\n",
       "         115.,  121.,  153.,  151.,  173.,  189.,  231.,  237.,  287.,\n",
       "         341.,  386.,  434.,  541.,  610.,  656.,  820.,  976., 1173.,\n",
       "        1226., 1456., 1685., 2001., 2264., 2589., 3084., 3222., 3516.,\n",
       "        3679., 3798., 4085., 3887., 3658., 3608., 3232., 3085., 2723.,\n",
       "        2282., 1967., 1636., 1423., 1141.,  950.,  832.,  635.,  577.,\n",
       "         452.,  368.,  333.,  247.,  258.,  195.,  153.,  134.,  103.,\n",
       "          81.,   96.,   62.,   66.,   37.,   35.,   27.,   33.,   29.,\n",
       "          24.,   19.,   15.,   11.,    7.,    5.,    6.]),\n",
       " array([115.        , 115.25316456, 115.50632911, 115.75949367,\n",
       "        116.01265823, 116.26582278, 116.51898734, 116.7721519 ,\n",
       "        117.02531646, 117.27848101, 117.53164557, 117.78481013,\n",
       "        118.03797468, 118.29113924, 118.5443038 , 118.79746835,\n",
       "        119.05063291, 119.30379747, 119.55696203, 119.81012658,\n",
       "        120.06329114, 120.3164557 , 120.56962025, 120.82278481,\n",
       "        121.07594937, 121.32911392, 121.58227848, 121.83544304,\n",
       "        122.08860759, 122.34177215, 122.59493671, 122.84810127,\n",
       "        123.10126582, 123.35443038, 123.60759494, 123.86075949,\n",
       "        124.11392405, 124.36708861, 124.62025316, 124.87341772,\n",
       "        125.12658228, 125.37974684, 125.63291139, 125.88607595,\n",
       "        126.13924051, 126.39240506, 126.64556962, 126.89873418,\n",
       "        127.15189873, 127.40506329, 127.65822785, 127.91139241,\n",
       "        128.16455696, 128.41772152, 128.67088608, 128.92405063,\n",
       "        129.17721519, 129.43037975, 129.6835443 , 129.93670886,\n",
       "        130.18987342, 130.44303797, 130.69620253, 130.94936709,\n",
       "        131.20253165, 131.4556962 , 131.70886076, 131.96202532,\n",
       "        132.21518987, 132.46835443, 132.72151899, 132.97468354,\n",
       "        133.2278481 , 133.48101266, 133.73417722, 133.98734177,\n",
       "        134.24050633, 134.49367089, 134.74683544, 135.        ]),\n",
       " <BarContainer object of 79 artists>)"
      ]
     },
     "execution_count": 14,
     "metadata": {},
     "output_type": "execute_result"
    },
    {
     "data": {
      "image/png": "[encoded data removed]",
      "text/plain": [
       "<Figure size 432x288 with 1 Axes>"
      ]
     },
     "metadata": {
      "needs_background": "light"
     },
     "output_type": "display_data"
    }
   ],
   "source": [
    "print(\"flashgg N entries:\",len(flashgg_SL_mass))\n",
    "\n",
    "fig, ax = plt.subplots()\n",
    "bins = np.linspace(115, 135, 80)\n",
    "plt.hist(flashgg_SL_mass, bins = bins)"
   ]
  },
  {
   "cell_type": "code",
   "execution_count": null,
   "id": "9bc26bc2-05fa-4d3f-ba43-bd82666902e1",
   "metadata": {},
   "outputs": [],
   "source": []
  }
 ],
 "metadata": {
  "kernelspec": {
   "display_name": "Python 3 (ipykernel)",
   "language": "python",
   "name": "python3"
  },
  "language_info": {
   "codemirror_mode": {
    "name": "ipython",
    "version": 3
   },
   "file_extension": ".py",
   "mimetype": "text/x-python",
   "name": "python",
   "nbconvert_exporter": "python",
   "pygments_lexer": "ipython3",
   "version": "3.8.10"
  }
 },
 "nbformat": 4,
 "nbformat_minor": 5
}
